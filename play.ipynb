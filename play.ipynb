{
 "cells": [
  {
   "cell_type": "code",
   "execution_count": 1,
   "metadata": {},
   "outputs": [],
   "source": [
    "import pandas as pd"
   ]
  },
  {
   "cell_type": "code",
   "execution_count": 6,
   "metadata": {},
   "outputs": [],
   "source": [
    "from yt_dlp import YoutubeDL"
   ]
  },
  {
   "cell_type": "code",
   "execution_count": 20,
   "metadata": {},
   "outputs": [],
   "source": [
    "urls = ['https://www.youtube.com/watch?v=pqFD6psRDm8']\n",
    "ydl_opts = {\n",
    "    'format': 'm4a/bestaudio/best',\n",
    "    # ℹ️ See help(yt_dlp.postprocessor) for a list of available Postprocessors and their arguments\n",
    "    'postprocessors': [{  # Extract audio using ffmpeg\n",
    "        'key': 'FFmpegExtractAudio',\n",
    "        'preferredcodec': 'mp3',\n",
    "    }]\n",
    "}"
   ]
  },
  {
   "cell_type": "code",
   "execution_count": 21,
   "metadata": {},
   "outputs": [
    {
     "name": "stdout",
     "output_type": "stream",
     "text": [
      "[youtube] Extracting URL: https://www.youtube.com/watch?v=pqFD6psRDm8\n",
      "[youtube] pqFD6psRDm8: Downloading webpage\n",
      "[youtube] pqFD6psRDm8: Downloading ios player API JSON\n",
      "[youtube] pqFD6psRDm8: Downloading m3u8 information\n",
      "[info] pqFD6psRDm8: Downloading 1 format(s): 140\n",
      "[download] 不要瞎掰好嗎 [pqFD6psRDm8].m4a has already been downloaded\n",
      "[download] 100% of  145.17KiB\n",
      "[ExtractAudio] Destination: 不要瞎掰好嗎 [pqFD6psRDm8].mp3\n",
      "Deleting original file 不要瞎掰好嗎 [pqFD6psRDm8].m4a (pass -k to keep)\n"
     ]
    }
   ],
   "source": [
    "with YoutubeDL(ydl_opts) as ydl:\n",
    "    ydl.download(urls)"
   ]
  }
 ],
 "metadata": {
  "kernelspec": {
   "display_name": "venv",
   "language": "python",
   "name": "python3"
  },
  "language_info": {
   "codemirror_mode": {
    "name": "ipython",
    "version": 3
   },
   "file_extension": ".py",
   "mimetype": "text/x-python",
   "name": "python",
   "nbconvert_exporter": "python",
   "pygments_lexer": "ipython3",
   "version": "3.9.19"
  }
 },
 "nbformat": 4,
 "nbformat_minor": 2
}
